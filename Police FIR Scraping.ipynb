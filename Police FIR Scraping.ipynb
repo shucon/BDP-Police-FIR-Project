{
 "cells": [
  {
   "cell_type": "code",
   "execution_count": 1,
   "metadata": {},
   "outputs": [],
   "source": [
    "from bs4 import BeautifulSoup\n",
    "\n",
    "import requests\n",
    "import csv\n",
    "content_a = [1,3,3,5,5,7,7,9,11,13,15,17,19]\n",
    "content_b = [7,3,7,3,7,3,7,3,3,3,7,3,3]\n",
    "# ans = []\n",
    "# writer=csv.writer(open('data.csv','wb'))"
   ]
  },
  {
   "cell_type": "code",
   "execution_count": null,
   "metadata": {},
   "outputs": [],
   "source": [
    "with open('data.csv', mode='w') as file:\n",
    "    writer = csv.writer(file, delimiter=',', quotechar='\"', quoting=csv.QUOTE_MINIMAL)\n",
    "    for i in range(1,14937):\n",
    "        url = \"zipnet.in/index.php?page=stolen_vehicles_search&criteria=zoom&Page_No=\"+str(i)+\"&state=008&state_name=DELHI&Start_Date=26/02/2018&End_Date=26/02/2019\"\n",
    "    \n",
    "        r  = requests.get(\"http://\" +url)\n",
    "    \n",
    "        data = r.text\n",
    "    \n",
    "        soup = BeautifulSoup(data, 'html.parser')\n",
    "        a = soup.find_all('table')\n",
    "        temp = []\n",
    "        for i in range(len(content_a)):\n",
    "            temp.append(a[21].contents[content_a[i]].contents[content_b[i]].string)\n",
    "#         print (temp)\n",
    "#         temp[3] = temp[3][4:]\n",
    "        writer.writerow(temp)\n",
    "        temp = []\n",
    "        for i in range(len(content_a)):\n",
    "            temp.append(a[22].contents[content_a[i]].contents[content_b[i]].string)\n",
    "#         temp[3] = temp[3][4:]\n",
    "        writer.writerow(temp)\n",
    "        temp = []\n",
    "        for i in range(len(content_a)):\n",
    "            temp.append(a[23].contents[content_a[i]].contents[content_b[i]].string)\n",
    "#         temp[3] = temp[3][4:]\n",
    "        writer.writerow(temp)"
   ]
  },
  {
   "cell_type": "code",
   "execution_count": null,
   "metadata": {},
   "outputs": [],
   "source": [
    "temp[3][4:]"
   ]
  },
  {
   "cell_type": "code",
   "execution_count": null,
   "metadata": {},
   "outputs": [],
   "source": []
  }
 ],
 "metadata": {
  "kernelspec": {
   "display_name": "Python 3",
   "language": "python",
   "name": "python3"
  },
  "language_info": {
   "codemirror_mode": {
    "name": "ipython",
    "version": 3
   },
   "file_extension": ".py",
   "mimetype": "text/x-python",
   "name": "python",
   "nbconvert_exporter": "python",
   "pygments_lexer": "ipython3",
   "version": "3.5.2"
  }
 },
 "nbformat": 4,
 "nbformat_minor": 2
}
