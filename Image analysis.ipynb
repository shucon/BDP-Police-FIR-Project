{
 "cells": [
  {
   "cell_type": "code",
   "execution_count": 4,
   "metadata": {},
   "outputs": [],
   "source": [
    "import csv\n",
    "import pandas as pd\n",
    "import datetime\n",
    "from matplotlib import pyplot as plt\n",
    "import operator\n",
    "import subprocess\n",
    "import json\n",
    "# import gmaps\n",
    "# import gmaps.datasets\n",
    "import datetime\n",
    "import requests\n",
    "import math\n",
    "import base64"
   ]
  },
  {
   "cell_type": "code",
   "execution_count": 22,
   "metadata": {},
   "outputs": [
    {
     "name": "stdout",
     "output_type": "stream",
     "text": [
      "TS07GG8739\n",
      "silver-gray\n",
      "ford\n",
      "suv-crossover\n",
      "2015-2019\n",
      "ford_ecosport\n"
     ]
    }
   ],
   "source": [
    "IMAGE_PATH = '/home/madhur/BDP-Police-FIR-Project/web-app/uploads/car.jpg'\n",
    "SECRET_KEY = 'sk_9791a1be475cae14e87a2abf'\n",
    "\n",
    "with open(IMAGE_PATH, 'rb') as image_file:\n",
    "    img_base64 = base64.b64encode(image_file.read())\n",
    "\n",
    "# url = 'https://api.openalpr.com/v2/recognize_bytes?recognize_vehicle=1&country=in&secret_key=%s' % (SECRET_KEY)\n",
    "# r = requests.post(url, data = img_base64)\n",
    "\n",
    "# print(r.json()['results'][0]['plate'])\n",
    "# print(r.json()['results'][0]['vehicle']['color'][0]['name'])\n",
    "# print(r.json()['results'][0]['vehicle']['make'][0]['name'])\n",
    "# print(r.json()['results'][0]['vehicle']['body_type'][0]['name'])\n",
    "# print(r.json()['results'][0]['vehicle']['year'][0]['name'])\n",
    "# print(r.json()['results'][0]['vehicle']['make_model'][0]['name'])\n",
    "# print(json.dumps(r.json(), indent=2))"
   ]
  },
  {
   "cell_type": "code",
   "execution_count": null,
   "metadata": {},
   "outputs": [],
   "source": []
  }
 ],
 "metadata": {
  "kernelspec": {
   "display_name": "Python 3",
   "language": "python",
   "name": "python3"
  },
  "language_info": {
   "codemirror_mode": {
    "name": "ipython",
    "version": 3
   },
   "file_extension": ".py",
   "mimetype": "text/x-python",
   "name": "python",
   "nbconvert_exporter": "python",
   "pygments_lexer": "ipython3",
   "version": "3.6.7"
  }
 },
 "nbformat": 4,
 "nbformat_minor": 2
}
